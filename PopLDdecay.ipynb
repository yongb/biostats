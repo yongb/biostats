{
  "nbformat": 4,
  "nbformat_minor": 0,
  "metadata": {
    "colab": {
      "name": "PopLDdecay.ipynb",
      "provenance": [],
      "authorship_tag": "ABX9TyPnnNMrRkLn0/5ST79M5Fjn",
      "include_colab_link": true
    },
    "kernelspec": {
      "name": "python3",
      "display_name": "Python 3"
    }
  },
  "cells": [
    {
      "cell_type": "markdown",
      "metadata": {
        "id": "view-in-github",
        "colab_type": "text"
      },
      "source": [
        "<a href=\"https://colab.research.google.com/github/yongb/biostats/blob/master/PopLDdecay.ipynb\" target=\"_parent\"><img src=\"https://colab.research.google.com/assets/colab-badge.svg\" alt=\"Open In Colab\"/></a>"
      ]
    },
    {
      "cell_type": "code",
      "metadata": {
        "id": "WIJ_qGTbTyGP",
        "colab_type": "code",
        "colab": {
          "base_uri": "https://localhost:8080/",
          "height": 85
        },
        "outputId": "b67fab76-2b0e-45d1-8fbb-b3c18e36cb32"
      },
      "source": [
        "!git clone https://github.com/BGI-shenzhen/PopLDdecay.git "
      ],
      "execution_count": 1,
      "outputs": [
        {
          "output_type": "stream",
          "text": [
            "Cloning into 'PopLDdecay'...\n",
            "remote: Enumerating objects: 96, done.\u001b[K\n",
            "remote: Total 96 (delta 0), reused 0 (delta 0), pack-reused 96\u001b[K\n",
            "Unpacking objects: 100% (96/96), done.\n"
          ],
          "name": "stdout"
        }
      ]
    },
    {
      "cell_type": "code",
      "metadata": {
        "id": "p3z85oIGT4an",
        "colab_type": "code",
        "colab": {
          "base_uri": "https://localhost:8080/",
          "height": 34
        },
        "outputId": "7945504d-e3ed-44f0-cd4f-0fdee1de6b3b"
      },
      "source": [
        "cd PopLDdecay"
      ],
      "execution_count": 2,
      "outputs": [
        {
          "output_type": "stream",
          "text": [
            "/content/PopLDdecay\n"
          ],
          "name": "stdout"
        }
      ]
    },
    {
      "cell_type": "code",
      "metadata": {
        "id": "bWzKVZo_T8CK",
        "colab_type": "code",
        "colab": {}
      },
      "source": [
        "!chmod 755 configure"
      ],
      "execution_count": 0,
      "outputs": []
    },
    {
      "cell_type": "code",
      "metadata": {
        "id": "39rmPxULUAby",
        "colab_type": "code",
        "colab": {
          "base_uri": "https://localhost:8080/",
          "height": 1000
        },
        "outputId": "9e14160b-1b60-46c1-82e6-7b6e6c19126c"
      },
      "source": [
        "! ./configure"
      ],
      "execution_count": 8,
      "outputs": [
        {
          "output_type": "stream",
          "text": [
            "checking for a BSD-compatible install... /usr/bin/install -c\n",
            "checking whether build environment is sane... yes\n",
            "checking for a thread-safe mkdir -p... /bin/mkdir -p\n",
            "checking for gawk... no\n",
            "checking for mawk... mawk\n",
            "checking whether make sets $(MAKE)... yes\n",
            "checking for gawk... (cached) mawk\n",
            "checking for g++... g++\n",
            "checking whether the C++ compiler works... yes\n",
            "checking for C++ compiler default output file name... a.out\n",
            "checking for suffix of executables... \n",
            "checking whether we are cross compiling... no\n",
            "checking for suffix of object files... o\n",
            "checking whether we are using the GNU C++ compiler... yes\n",
            "checking whether g++ accepts -g... yes\n",
            "checking for style of include used by make... GNU\n",
            "checking dependency style of g++... gcc3\n",
            "checking for gcc... gcc\n",
            "checking whether we are using the GNU C compiler... yes\n",
            "checking whether gcc accepts -g... yes\n",
            "checking for gcc option to accept ISO C89... none needed\n",
            "checking dependency style of gcc... gcc3\n",
            "checking how to run the C preprocessor... gcc -E\n",
            "checking whether ln -s works... yes\n",
            "checking whether make sets $(MAKE)... (cached) yes\n",
            "checking for ranlib... ranlib\n",
            "checking for main in -lz... yes\n",
            "checking for grep that handles long lines and -e... /bin/grep\n",
            "checking for egrep... /bin/grep -E\n",
            "checking for ANSI C header files... yes\n",
            "checking for sys/types.h... yes\n",
            "checking for sys/stat.h... yes\n",
            "checking for stdlib.h... yes\n",
            "checking for string.h... yes\n",
            "checking for memory.h... yes\n",
            "checking for strings.h... yes\n",
            "checking for inttypes.h... yes\n",
            "checking for stdint.h... yes\n",
            "checking for unistd.h... yes\n",
            "checking zlib.h usability... yes\n",
            "checking zlib.h presence... yes\n",
            "checking for zlib.h... yes\n",
            "checking math.h usability... yes\n",
            "checking math.h presence... yes\n",
            "checking for math.h... yes\n",
            "checking for stdlib.h... (cached) yes\n",
            "checking for GNU libc compatible malloc... yes\n",
            "checking for stdlib.h... (cached) yes\n",
            "checking for GNU libc compatible realloc... yes\n",
            "checking for memset... yes\n",
            "checking for regcomp... yes\n",
            "checking for sqrt... no\n",
            "checking for strdup... yes\n",
            "checking for strncasecmp... yes\n",
            "checking for strtol... yes\n",
            "configure: creating ./config.status\n",
            "config.status: creating Makefile\n",
            "config.status: creating config.h\n",
            "config.status: config.h is unchanged\n",
            "config.status: executing depfiles commands\n"
          ],
          "name": "stdout"
        }
      ]
    },
    {
      "cell_type": "code",
      "metadata": {
        "id": "DEsOElorV_nV",
        "colab_type": "code",
        "colab": {
          "base_uri": "https://localhost:8080/",
          "height": 1000
        },
        "outputId": "2eb0797d-e242-48c2-e02d-939b4131a8f4"
      },
      "source": [
        "!make"
      ],
      "execution_count": 9,
      "outputs": [
        {
          "output_type": "stream",
          "text": [
            "CDPATH=\"${ZSH_VERSION+.}:\" && cd . && /bin/bash /content/PopLDdecay/missing --run aclocal-1.11 \n",
            "/content/PopLDdecay/missing: line 52: aclocal-1.11: command not found\n",
            "WARNING: `aclocal-1.11' is missing on your system.  You should only need it if\n",
            "         you modified `acinclude.m4' or `configure.ac'.  You might want\n",
            "         to install the `Automake' and `Perl' packages.  Grab them from\n",
            "         any GNU archive site.\n",
            " cd . && /bin/bash /content/PopLDdecay/missing --run automake-1.11 --foreign\n",
            "/content/PopLDdecay/missing: line 52: automake-1.11: command not found\n",
            "WARNING: `automake-1.11' is missing on your system.  You should only need it if\n",
            "         you modified `Makefile.am', `acinclude.m4' or `configure.ac'.\n",
            "         You might want to install the `Automake' and `Perl' packages.\n",
            "         Grab them from any GNU archive site.\n",
            "CDPATH=\"${ZSH_VERSION+.}:\" && cd . && /bin/bash /content/PopLDdecay/missing --run autoconf\n",
            "/content/PopLDdecay/missing: line 52: autoconf: command not found\n",
            "WARNING: `autoconf' is missing on your system.  You should only need it if\n",
            "         you modified `configure.ac'.  You might want to install the\n",
            "         `Autoconf' and `GNU m4' packages.  Grab them from any GNU\n",
            "         archive site.\n",
            "/bin/bash ./config.status --recheck\n",
            "running CONFIG_SHELL=/bin/bash /bin/bash ./configure --no-create --no-recursion\n",
            "checking for a BSD-compatible install... /usr/bin/install -c\n",
            "checking whether build environment is sane... yes\n",
            "checking for a thread-safe mkdir -p... /bin/mkdir -p\n",
            "checking for gawk... no\n",
            "checking for mawk... mawk\n",
            "checking whether make sets $(MAKE)... yes\n",
            "checking for gawk... (cached) mawk\n",
            "checking for g++... g++\n",
            "checking whether the C++ compiler works... yes\n",
            "checking for C++ compiler default output file name... a.out\n",
            "checking for suffix of executables... \n",
            "checking whether we are cross compiling... no\n",
            "checking for suffix of object files... o\n",
            "checking whether we are using the GNU C++ compiler... yes\n",
            "checking whether g++ accepts -g... yes\n",
            "checking for style of include used by make... GNU\n",
            "checking dependency style of g++... gcc3\n",
            "checking for gcc... gcc\n",
            "checking whether we are using the GNU C compiler... yes\n",
            "checking whether gcc accepts -g... yes\n",
            "checking for gcc option to accept ISO C89... none needed\n",
            "checking dependency style of gcc... gcc3\n",
            "checking how to run the C preprocessor... gcc -E\n",
            "checking whether ln -s works... yes\n",
            "checking whether make sets $(MAKE)... (cached) yes\n",
            "checking for ranlib... ranlib\n",
            "checking for main in -lz... yes\n",
            "checking for grep that handles long lines and -e... /bin/grep\n",
            "checking for egrep... /bin/grep -E\n",
            "checking for ANSI C header files... yes\n",
            "checking for sys/types.h... yes\n",
            "checking for sys/stat.h... yes\n",
            "checking for stdlib.h... yes\n",
            "checking for string.h... yes\n",
            "checking for memory.h... yes\n",
            "checking for strings.h... yes\n",
            "checking for inttypes.h... yes\n",
            "checking for stdint.h... yes\n",
            "checking for unistd.h... yes\n",
            "checking zlib.h usability... yes\n",
            "checking zlib.h presence... yes\n",
            "checking for zlib.h... yes\n",
            "checking math.h usability... yes\n",
            "checking math.h presence... yes\n",
            "checking for math.h... yes\n",
            "checking for stdlib.h... (cached) yes\n",
            "checking for GNU libc compatible malloc... yes\n",
            "checking for stdlib.h... (cached) yes\n",
            "checking for GNU libc compatible realloc... yes\n",
            "checking for memset... yes\n",
            "checking for regcomp... yes\n",
            "checking for sqrt... no\n",
            "checking for strdup... yes\n",
            "checking for strncasecmp... yes\n",
            "checking for strtol... yes\n",
            "configure: creating ./config.status\n",
            " /bin/bash ./config.status\n",
            "config.status: creating Makefile\n",
            "config.status: creating config.h\n",
            "config.status: config.h is unchanged\n",
            "config.status: executing depfiles commands\n",
            "(CDPATH=\"${ZSH_VERSION+.}:\" && cd . && /bin/bash /content/PopLDdecay/missing --run autoheader)\n",
            "/content/PopLDdecay/missing: line 52: autoheader: command not found\n",
            "WARNING: `autoheader' is missing on your system.  You should only need it if\n",
            "         you modified `acconfig.h' or `configure.ac'.  You might want\n",
            "         to install the `Autoconf' and `GNU m4' packages.  Grab them\n",
            "         from any GNU archive site.\n",
            "rm -f stamp-h1\n",
            "touch config.h.in\n",
            "cd . && /bin/bash ./config.status config.h\n",
            "config.status: creating config.h\n",
            "config.status: config.h is unchanged\n",
            "make  all-am\n",
            "make[1]: Entering directory '/content/PopLDdecay'\n",
            "g++ -DHAVE_CONFIG_H -I.     -g -O2 -MT LD_Decay.o -MD -MP -MF .deps/LD_Decay.Tpo -c -o LD_Decay.o `test -f 'src/LD_Decay.cpp' || echo './'`src/LD_Decay.cpp\n",
            "In file included from \u001b[01m\u001b[Ksrc/LD_Decay.cpp:5:0\u001b[m\u001b[K:\n",
            "\u001b[01m\u001b[Ksrc/FileDeal.h:\u001b[m\u001b[K In function ‘\u001b[01m\u001b[Kint Read_Genotype_IN(In3str1v*, Para_18*, std::map<std::__cxx11::basic_string<char>, std::map<int, std::vector<BaseType> > >&, int&)\u001b[m\u001b[K’:\n",
            "\u001b[01m\u001b[Ksrc/FileDeal.h:1011:14:\u001b[m\u001b[K \u001b[01;35m\u001b[Kwarning: \u001b[m\u001b[Kignoring return value of ‘\u001b[01m\u001b[Kint system(const char*)\u001b[m\u001b[K’, declared with attribute warn_unused_result [\u001b[01;35m\u001b[K-Wunused-result\u001b[m\u001b[K]\n",
            "   \u001b[01;35m\u001b[Kstd::system(MV.c_str())\u001b[m\u001b[K ;\n",
            "   \u001b[01;35m\u001b[K~~~~~~~~~~~^~~~~~~~~~~~\u001b[m\u001b[K\n",
            "In file included from \u001b[01m\u001b[Ksrc/LD_Decay.cpp:10:0\u001b[m\u001b[K:\n",
            "\u001b[01m\u001b[Ksrc/EHHDeal.h:\u001b[m\u001b[K In function ‘\u001b[01m\u001b[Kint EHH_Region_LDDecay(In3str1v*, Para_18*, std::map<std::__cxx11::basic_string<char>, std::map<int, std::vector<BaseType> > >&, int&)\u001b[m\u001b[K’:\n",
            "\u001b[01m\u001b[Ksrc/EHHDeal.h:272:7:\u001b[m\u001b[K \u001b[01;35m\u001b[Kwarning: \u001b[m\u001b[Kignoring return value of ‘\u001b[01m\u001b[Ksize_t fread(void*, size_t, size_t, FILE*)\u001b[m\u001b[K’, declared with attribute warn_unused_result [\u001b[01;35m\u001b[K-Wunused-result\u001b[m\u001b[K]\n",
            "  \u001b[01;35m\u001b[Kfread( buf, sizeof(char), sizeof(buf), stream)\u001b[m\u001b[K;\n",
            "  \u001b[01;35m\u001b[K~~~~~^~~~~~~~~~~~~~~~~~~~~~~~~~~~~~~~~~~~~~~~~\u001b[m\u001b[K\n",
            "\u001b[01m\u001b[Ksrc/EHHDeal.h:303:14:\u001b[m\u001b[K \u001b[01;35m\u001b[Kwarning: \u001b[m\u001b[Kignoring return value of ‘\u001b[01m\u001b[Kint system(const char*)\u001b[m\u001b[K’, declared with attribute warn_unused_result [\u001b[01;35m\u001b[K-Wunused-result\u001b[m\u001b[K]\n",
            "   \u001b[01;35m\u001b[Kstd::system(cc.c_str())\u001b[m\u001b[K ;\n",
            "   \u001b[01;35m\u001b[K~~~~~~~~~~~^~~~~~~~~~~~\u001b[m\u001b[K\n",
            "\u001b[01m\u001b[Ksrc/EHHDeal.h:307:13:\u001b[m\u001b[K \u001b[01;35m\u001b[Kwarning: \u001b[m\u001b[Kignoring return value of ‘\u001b[01m\u001b[Kint system(const char*)\u001b[m\u001b[K’, declared with attribute warn_unused_result [\u001b[01;35m\u001b[K-Wunused-result\u001b[m\u001b[K]\n",
            "  \u001b[01;35m\u001b[Kstd::system(cc.c_str())\u001b[m\u001b[K;\n",
            "  \u001b[01;35m\u001b[K~~~~~~~~~~~^~~~~~~~~~~~\u001b[m\u001b[K\n",
            "mv -f .deps/LD_Decay.Tpo .deps/LD_Decay.Po\n",
            "g++  -g -O2 -g -O2  -o PopLDdecay LD_Decay.o -lz -lz \n",
            "make[1]: Leaving directory '/content/PopLDdecay'\n"
          ],
          "name": "stdout"
        }
      ]
    },
    {
      "cell_type": "code",
      "metadata": {
        "id": "_rVsuHN6WFwx",
        "colab_type": "code",
        "colab": {}
      },
      "source": [
        "! mv PopLDdecay  bin/"
      ],
      "execution_count": 0,
      "outputs": []
    },
    {
      "cell_type": "code",
      "metadata": {
        "id": "ZQOEH2ZaYNp_",
        "colab_type": "code",
        "colab": {
          "base_uri": "https://localhost:8080/",
          "height": 340
        },
        "outputId": "c13c8ffc-18d5-4ece-eabf-a45326b625d2"
      },
      "source": [
        "!./bin/PopLDdecay"
      ],
      "execution_count": 12,
      "outputs": [
        {
          "output_type": "stream",
          "text": [
            "\n",
            "\tUsage: PopLDDecay -InVCF  <in.vcf.gz>  -OutStat <out.stat>\n",
            "\n",
            "\t\t-InVCF         <str>     Input SNP VCF Format\n",
            "\t\t-InGenotype    <str>     Input SNP Genotype Format\n",
            "\t\t-OutStat       <str>     OutPut Stat Dist ~ r^2/D' File\n",
            "\n",
            "\t\t-SubPop        <str>     SubGroup Sample File List[ALLsample]\n",
            "\t\t-MaxDist       <int>     Max Distance (kb) between two SNP [300]\n",
            "\t\t-MAF           <float>   Min minor allele frequency filter [0.005]\n",
            "\t\t-Het           <float>   Max ratio of het allele filter [0.88]\n",
            "\t\t-Miss          <float>   Max ratio of miss allele filter [0.25]\n",
            "\t\t-EHH           <str>     To Run EHH Region decay set StartSite [NA]\n",
            "\t\t-OutFilterSNP            OutPut the final SNP to calculate\n",
            "\t\t-OutType       <int>     1: R^2 result 2: R^2 & D' result 3:PairWise LD Out[1]\n",
            "\t\t                         See the Help for more OutType [1-8] details\n",
            "\t\t\n",
            "\t\t-help                    Show more help [hewm2008 v3.40]\n",
            "\n"
          ],
          "name": "stdout"
        }
      ]
    },
    {
      "cell_type": "code",
      "metadata": {
        "id": "AQ3GO_URZP3H",
        "colab_type": "code",
        "colab": {}
      },
      "source": [
        "!./bin/PopLDdecay -InVCF SNP.vcf.gz -OutStat Lddecay.stat.gz"
      ],
      "execution_count": 0,
      "outputs": []
    },
    {
      "cell_type": "code",
      "metadata": {
        "id": "hMz-KtTIeFSz",
        "colab_type": "code",
        "colab": {
          "base_uri": "https://localhost:8080/",
          "height": 68
        },
        "outputId": "fafa463a-4d35-4343-98f5-07c6f71a3fca"
      },
      "source": [
        "! perl bin/Plot_OnePop.pl -inFile Lddecay.stat.gz -output Out.Prefix"
      ],
      "execution_count": 18,
      "outputs": [
        {
          "output_type": "stream",
          "text": [
            "Use of uninitialized value $_ in scalar chomp at bin/Plot_OnePop.pl line 770.\n",
            "Use of uninitialized value $_ in substitution (s///) at bin/Plot_OnePop.pl line 771.\n",
            "Input File Lddecay.stat.gz Format wrong,Can't found [#Dist] at first line\n"
          ],
          "name": "stdout"
        }
      ]
    }
  ]
}